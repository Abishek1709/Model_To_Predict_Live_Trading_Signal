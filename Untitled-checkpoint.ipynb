{
 "cells": [
  {
   "cell_type": "markdown",
   "id": "8b9bbc7e",
   "metadata": {},
   "source": [
    "# Model to Predict the Live Trading Signal:"
   ]
  },
  {
   "cell_type": "code",
   "execution_count": 1,
   "id": "4319b6a6",
   "metadata": {},
   "outputs": [],
   "source": [
    "import pandas as pd\n",
    "import numpy as np \n",
    "import requests\n",
    "import time"
   ]
  },
  {
   "cell_type": "code",
   "execution_count": 2,
   "id": "e49196a2",
   "metadata": {},
   "outputs": [],
   "source": [
    "import tensorflow as tf\n",
    "from sklearn.linear_model import LinearRegression\n",
    "from sklearn.model_selection import train_test_split\n",
    "from sklearn.metrics import mean_squared_error"
   ]
  },
  {
   "cell_type": "code",
   "execution_count": 3,
   "id": "a5132572",
   "metadata": {},
   "outputs": [],
   "source": [
    "df = pd.read_csv(\"EURUSD.csv\")"
   ]
  },
  {
   "cell_type": "code",
   "execution_count": 4,
   "id": "fa9e885f",
   "metadata": {},
   "outputs": [],
   "source": [
    "x = pd.DataFrame(df, columns=[\"Open\"])"
   ]
  },
  {
   "cell_type": "code",
   "execution_count": 5,
   "id": "1c50b470",
   "metadata": {},
   "outputs": [],
   "source": [
    "y = pd.DataFrame(df, columns=[\"High\", \"Low\"])\n"
   ]
  },
  {
   "cell_type": "code",
   "execution_count": 6,
   "id": "0cccb5d4",
   "metadata": {},
   "outputs": [],
   "source": [
    "x_train, x_test, y_train, y_test = train_test_split(x, y, test_size=0.3, random_state=0)\n"
   ]
  },
  {
   "cell_type": "code",
   "execution_count": 7,
   "id": "f7ada208",
   "metadata": {},
   "outputs": [],
   "source": [
    "model = LinearRegression()\n"
   ]
  },
  {
   "cell_type": "code",
   "execution_count": 8,
   "id": "8b634820",
   "metadata": {},
   "outputs": [
    {
     "data": {
      "text/html": [
       "<style>#sk-container-id-1 {color: black;background-color: white;}#sk-container-id-1 pre{padding: 0;}#sk-container-id-1 div.sk-toggleable {background-color: white;}#sk-container-id-1 label.sk-toggleable__label {cursor: pointer;display: block;width: 100%;margin-bottom: 0;padding: 0.3em;box-sizing: border-box;text-align: center;}#sk-container-id-1 label.sk-toggleable__label-arrow:before {content: \"▸\";float: left;margin-right: 0.25em;color: #696969;}#sk-container-id-1 label.sk-toggleable__label-arrow:hover:before {color: black;}#sk-container-id-1 div.sk-estimator:hover label.sk-toggleable__label-arrow:before {color: black;}#sk-container-id-1 div.sk-toggleable__content {max-height: 0;max-width: 0;overflow: hidden;text-align: left;background-color: #f0f8ff;}#sk-container-id-1 div.sk-toggleable__content pre {margin: 0.2em;color: black;border-radius: 0.25em;background-color: #f0f8ff;}#sk-container-id-1 input.sk-toggleable__control:checked~div.sk-toggleable__content {max-height: 200px;max-width: 100%;overflow: auto;}#sk-container-id-1 input.sk-toggleable__control:checked~label.sk-toggleable__label-arrow:before {content: \"▾\";}#sk-container-id-1 div.sk-estimator input.sk-toggleable__control:checked~label.sk-toggleable__label {background-color: #d4ebff;}#sk-container-id-1 div.sk-label input.sk-toggleable__control:checked~label.sk-toggleable__label {background-color: #d4ebff;}#sk-container-id-1 input.sk-hidden--visually {border: 0;clip: rect(1px 1px 1px 1px);clip: rect(1px, 1px, 1px, 1px);height: 1px;margin: -1px;overflow: hidden;padding: 0;position: absolute;width: 1px;}#sk-container-id-1 div.sk-estimator {font-family: monospace;background-color: #f0f8ff;border: 1px dotted black;border-radius: 0.25em;box-sizing: border-box;margin-bottom: 0.5em;}#sk-container-id-1 div.sk-estimator:hover {background-color: #d4ebff;}#sk-container-id-1 div.sk-parallel-item::after {content: \"\";width: 100%;border-bottom: 1px solid gray;flex-grow: 1;}#sk-container-id-1 div.sk-label:hover label.sk-toggleable__label {background-color: #d4ebff;}#sk-container-id-1 div.sk-serial::before {content: \"\";position: absolute;border-left: 1px solid gray;box-sizing: border-box;top: 0;bottom: 0;left: 50%;z-index: 0;}#sk-container-id-1 div.sk-serial {display: flex;flex-direction: column;align-items: center;background-color: white;padding-right: 0.2em;padding-left: 0.2em;position: relative;}#sk-container-id-1 div.sk-item {position: relative;z-index: 1;}#sk-container-id-1 div.sk-parallel {display: flex;align-items: stretch;justify-content: center;background-color: white;position: relative;}#sk-container-id-1 div.sk-item::before, #sk-container-id-1 div.sk-parallel-item::before {content: \"\";position: absolute;border-left: 1px solid gray;box-sizing: border-box;top: 0;bottom: 0;left: 50%;z-index: -1;}#sk-container-id-1 div.sk-parallel-item {display: flex;flex-direction: column;z-index: 1;position: relative;background-color: white;}#sk-container-id-1 div.sk-parallel-item:first-child::after {align-self: flex-end;width: 50%;}#sk-container-id-1 div.sk-parallel-item:last-child::after {align-self: flex-start;width: 50%;}#sk-container-id-1 div.sk-parallel-item:only-child::after {width: 0;}#sk-container-id-1 div.sk-dashed-wrapped {border: 1px dashed gray;margin: 0 0.4em 0.5em 0.4em;box-sizing: border-box;padding-bottom: 0.4em;background-color: white;}#sk-container-id-1 div.sk-label label {font-family: monospace;font-weight: bold;display: inline-block;line-height: 1.2em;}#sk-container-id-1 div.sk-label-container {text-align: center;}#sk-container-id-1 div.sk-container {/* jupyter's `normalize.less` sets `[hidden] { display: none; }` but bootstrap.min.css set `[hidden] { display: none !important; }` so we also need the `!important` here to be able to override the default hidden behavior on the sphinx rendered scikit-learn.org. See: https://github.com/scikit-learn/scikit-learn/issues/21755 */display: inline-block !important;position: relative;}#sk-container-id-1 div.sk-text-repr-fallback {display: none;}</style><div id=\"sk-container-id-1\" class=\"sk-top-container\"><div class=\"sk-text-repr-fallback\"><pre>LinearRegression()</pre><b>In a Jupyter environment, please rerun this cell to show the HTML representation or trust the notebook. <br />On GitHub, the HTML representation is unable to render, please try loading this page with nbviewer.org.</b></div><div class=\"sk-container\" hidden><div class=\"sk-item\"><div class=\"sk-estimator sk-toggleable\"><input class=\"sk-toggleable__control sk-hidden--visually\" id=\"sk-estimator-id-1\" type=\"checkbox\" checked><label for=\"sk-estimator-id-1\" class=\"sk-toggleable__label sk-toggleable__label-arrow\">LinearRegression</label><div class=\"sk-toggleable__content\"><pre>LinearRegression()</pre></div></div></div></div></div>"
      ],
      "text/plain": [
       "LinearRegression()"
      ]
     },
     "execution_count": 8,
     "metadata": {},
     "output_type": "execute_result"
    }
   ],
   "source": [
    "model.fit(x_train, y_train)"
   ]
  },
  {
   "cell_type": "code",
   "execution_count": 9,
   "id": "94768234",
   "metadata": {},
   "outputs": [],
   "source": [
    "pred = model.predict(x_test)"
   ]
  },
  {
   "cell_type": "code",
   "execution_count": 11,
   "id": "cfc3e0df",
   "metadata": {},
   "outputs": [
    {
     "name": "stdout",
     "output_type": "stream",
     "text": [
      "Mean Squared Error: 2.1551233117247552e-05\n"
     ]
    }
   ],
   "source": [
    "mse = mean_squared_error(y_test, pred)\n",
    "print(\"Mean Squared Error:\", mse)"
   ]
  },
  {
   "cell_type": "markdown",
   "id": "a44fa556",
   "metadata": {},
   "source": [
    "# Model Prediction Score"
   ]
  },
  {
   "cell_type": "code",
   "execution_count": 12,
   "id": "8fe16b5e",
   "metadata": {},
   "outputs": [
    {
     "data": {
      "text/plain": [
       "0.9990607173599885"
      ]
     },
     "execution_count": 12,
     "metadata": {},
     "output_type": "execute_result"
    }
   ],
   "source": [
    "model.score(x_test,y_test)"
   ]
  },
  {
   "cell_type": "markdown",
   "id": "4656583f",
   "metadata": {},
   "source": [
    "# API call for getting the DATA of the Currency Pairs"
   ]
  },
  {
   "cell_type": "code",
   "execution_count": 13,
   "id": "5c1718b1",
   "metadata": {},
   "outputs": [
    {
     "name": "stdout",
     "output_type": "stream",
     "text": [
      "{'meta': {'symbol': 'EUR/USD', 'interval': '1day', 'currency_base': 'Euro', 'currency_quote': 'US Dollar', 'type': 'Physical Currency'}, 'values': [{'datetime': '2023-06-27', 'open': '1.09060', 'high': '1.09450', 'low': '1.09030', 'close': '1.09420'}], 'status': 'ok'}\n"
     ]
    }
   ],
   "source": [
    "# I have given dummy API_KEY use your own:\n",
    "\n",
    "Api_URL_open = 'https://api.twelvedata.com/time_series?symbol=EUR/USD&interval=1day&outputsize=1&apikey=a253f47da5be4a56af04cb87b9a494a5'\n",
    "data = requests.get(Api_URL_open).json()\n",
    "print(data)"
   ]
  },
  {
   "cell_type": "code",
   "execution_count": 14,
   "id": "cea5dda0",
   "metadata": {},
   "outputs": [
    {
     "data": {
      "text/plain": [
       "1.0906"
      ]
     },
     "execution_count": 14,
     "metadata": {},
     "output_type": "execute_result"
    }
   ],
   "source": [
    "open_price = float(data['values'][0]['open'])\n",
    "open_price"
   ]
  },
  {
   "cell_type": "markdown",
   "id": "1eb7737e",
   "metadata": {},
   "source": [
    "# Predicting the High and Low price for that Day"
   ]
  },
  {
   "cell_type": "code",
   "execution_count": 17,
   "id": "4ee07084",
   "metadata": {},
   "outputs": [
    {
     "name": "stdout",
     "output_type": "stream",
     "text": [
      "Predicted high price: 1.0945460808894105\n",
      "Predicted low price: 1.0870397472651898\n"
     ]
    },
    {
     "name": "stderr",
     "output_type": "stream",
     "text": [
      "C:\\Users\\91861\\anaconda3\\lib\\site-packages\\sklearn\\base.py:420: UserWarning: X does not have valid feature names, but LinearRegression was fitted with feature names\n",
      "  warnings.warn(\n"
     ]
    }
   ],
   "source": [
    "open_price = np.array(open_price).reshape(1, -1)\n",
    "predicted_price = model.predict(open_price)\n",
    "\n",
    "high_price = predicted_price[0][0]\n",
    "low_price = predicted_price[0][1]\n",
    "\n",
    "print(\"Predicted high price:\", high_price)\n",
    "print(\"Predicted low price:\", low_price)"
   ]
  },
  {
   "cell_type": "markdown",
   "id": "99512aa7",
   "metadata": {},
   "source": [
    "# Function to predict the Signal in Regular Time Interval\n"
   ]
  },
  {
   "cell_type": "code",
   "execution_count": null,
   "id": "7e597db6",
   "metadata": {},
   "outputs": [
    {
     "name": "stdout",
     "output_type": "stream",
     "text": [
      "current_price: 1.0945\n",
      "EMA_8: 1.09377\n",
      "EMA_20: 1.0934\n",
      "PREDICTED SIGNAL: BUY\n"
     ]
    }
   ],
   "source": [
    "\n",
    "\n",
    "def signal(high_price, low_price, current_price, EMA_8, EMA_20, threshold):\n",
    "    high_price = float(high_price)\n",
    "    low_price = float(low_price)\n",
    "    current_price = float(current_price)\n",
    "    if EMA_8 > EMA_20 and abs(current_price - low_price) <= threshold:\n",
    "        return \"BUY\"  \n",
    "    elif EMA_20 > EMA_8 and  abs(current_price - high_price) <= threshold:\n",
    "        return \"SELL\"\n",
    "    else:\n",
    "        return \"HOLD\"\n",
    "\n",
    "# Define threshold\n",
    "threshold = 0.008  # adjust this value as needed\n",
    "\n",
    "while True:\n",
    "    Api_Url_current_price = 'https://api.twelvedata.com/price?symbol=EUR/USD&apikey=a253f47da5be4a56af04cb87b9a494a5'\n",
    "    current_price = requests.get(Api_Url_current_price).json()\n",
    "    current_price = float(current_price['price'])\n",
    "    print('current_price:',current_price)\n",
    "    \n",
    "    \n",
    "    Api_Url_EMA_8 = 'https://api.twelvedata.com/ema?symbol=EUR/USD&interval=15min&outputsize=1&time_period=8&apikey=a253f47da5be4a56af04cb87b9a494a5'\n",
    "    EMA_8_data = requests.get(Api_Url_EMA_8).json()\n",
    "    EMA_8 = float(EMA_8_data['values'][0]['ema'])\n",
    "    print('EMA_8:',EMA_8)\n",
    "    \n",
    "    \n",
    "    Api_Url_EMA_20 = 'https://api.twelvedata.com/ema?symbol=EUR/USD&interval=15min&outputsize=1&time_period=20&apikey=a253f47da5be4a56af04cb87b9a494a5'\n",
    "    EMA_20_data = requests.get(Api_Url_EMA_20).json()\n",
    "    EMA_20 = float(EMA_20_data['values'][0]['ema'])\n",
    "    print('EMA_20:',EMA_20)\n",
    "\n",
    "\n",
    "# Get signal\n",
    "    buy_sell_signal = signal(high_price, low_price, current_price, EMA_8, EMA_20, threshold)\n",
    "\n",
    "    print(\"PREDICTED SIGNAL:\", buy_sell_signal)\n",
    "\n",
    "\n",
    "# Waits for 30 minutes\n",
    "    time.sleep(1800)  # 1800 seconds = 30 minutes\n"
   ]
  },
  {
   "cell_type": "code",
   "execution_count": null,
   "id": "be5f5fe6",
   "metadata": {},
   "outputs": [],
   "source": []
  }
 ],
 "metadata": {
  "kernelspec": {
   "display_name": "Python 3 (ipykernel)",
   "language": "python",
   "name": "python3"
  },
  "language_info": {
   "codemirror_mode": {
    "name": "ipython",
    "version": 3
   },
   "file_extension": ".py",
   "mimetype": "text/x-python",
   "name": "python",
   "nbconvert_exporter": "python",
   "pygments_lexer": "ipython3",
   "version": "3.10.9"
  }
 },
 "nbformat": 4,
 "nbformat_minor": 5
}
